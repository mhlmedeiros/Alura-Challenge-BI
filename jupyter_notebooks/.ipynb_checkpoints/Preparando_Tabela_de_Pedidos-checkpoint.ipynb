{
 "cells": [
  {
   "cell_type": "markdown",
   "metadata": {},
   "source": [
    "# Preparando os dados da Tabela-Pedidos"
   ]
  },
  {
   "cell_type": "markdown",
   "metadata": {},
   "source": [
    "### Bibliotecas usadas"
   ]
  },
  {
   "cell_type": "code",
   "execution_count": 1,
   "metadata": {},
   "outputs": [],
   "source": [
    "import pandas as pd\n",
    "import numpy as np\n",
    "import matplotlib.pyplot as plt"
   ]
  },
  {
   "cell_type": "markdown",
   "metadata": {},
   "source": [
    "### Carregando os dados"
   ]
  },
  {
   "cell_type": "markdown",
   "metadata": {},
   "source": [
    "Queremos saber a quantidade de pedidos entregues com atraso. Para isso precisamos olhar a 'Tabela - Pedidos.csv'. O primeiro desafio é tratar as informações de data."
   ]
  },
  {
   "cell_type": "code",
   "execution_count": 2,
   "metadata": {},
   "outputs": [
    {
     "data": {
      "text/html": [
       "<div>\n",
       "<style scoped>\n",
       "    .dataframe tbody tr th:only-of-type {\n",
       "        vertical-align: middle;\n",
       "    }\n",
       "\n",
       "    .dataframe tbody tr th {\n",
       "        vertical-align: top;\n",
       "    }\n",
       "\n",
       "    .dataframe thead th {\n",
       "        text-align: right;\n",
       "    }\n",
       "</style>\n",
       "<table border=\"1\" class=\"dataframe\">\n",
       "  <thead>\n",
       "    <tr style=\"text-align: right;\">\n",
       "      <th></th>\n",
       "      <th>ID Produto</th>\n",
       "      <th>Quantidade</th>\n",
       "      <th>ID Veículo</th>\n",
       "      <th>Status do pedido</th>\n",
       "      <th>Data da compra</th>\n",
       "      <th>Data de entrega</th>\n",
       "      <th>Data previsão</th>\n",
       "      <th>Latitude</th>\n",
       "      <th>Longitude</th>\n",
       "      <th>UF da entrega</th>\n",
       "    </tr>\n",
       "    <tr>\n",
       "      <th>ID Pedido</th>\n",
       "      <th></th>\n",
       "      <th></th>\n",
       "      <th></th>\n",
       "      <th></th>\n",
       "      <th></th>\n",
       "      <th></th>\n",
       "      <th></th>\n",
       "      <th></th>\n",
       "      <th></th>\n",
       "      <th></th>\n",
       "    </tr>\n",
       "  </thead>\n",
       "  <tbody>\n",
       "    <tr>\n",
       "      <th>1</th>\n",
       "      <td>32</td>\n",
       "      <td>3</td>\n",
       "      <td>19</td>\n",
       "      <td>Entregue</td>\n",
       "      <td>1/4/21 21:15</td>\n",
       "      <td>22/01/2021 21:15</td>\n",
       "      <td>23/01/2021 21:15</td>\n",
       "      <td>-22.19</td>\n",
       "      <td>-48.79</td>\n",
       "      <td>SP</td>\n",
       "    </tr>\n",
       "    <tr>\n",
       "      <th>2</th>\n",
       "      <td>50</td>\n",
       "      <td>9</td>\n",
       "      <td>42</td>\n",
       "      <td>Entregue</td>\n",
       "      <td>1/5/21 0:15</td>\n",
       "      <td>14/01/2021 00:15</td>\n",
       "      <td>25/01/2021 00:15</td>\n",
       "      <td>-22.19</td>\n",
       "      <td>-48.79</td>\n",
       "      <td>SP</td>\n",
       "    </tr>\n",
       "    <tr>\n",
       "      <th>3</th>\n",
       "      <td>39</td>\n",
       "      <td>3</td>\n",
       "      <td>19</td>\n",
       "      <td>Entregue</td>\n",
       "      <td>1/13/21 15:24</td>\n",
       "      <td>20/01/2021 15:24</td>\n",
       "      <td>02/02/2021 15:24</td>\n",
       "      <td>-20.51</td>\n",
       "      <td>-54.54</td>\n",
       "      <td>MS</td>\n",
       "    </tr>\n",
       "    <tr>\n",
       "      <th>4</th>\n",
       "      <td>39</td>\n",
       "      <td>1</td>\n",
       "      <td>16</td>\n",
       "      <td>Entregue</td>\n",
       "      <td>1/5/21 12:16</td>\n",
       "      <td>16/01/2021 12:16</td>\n",
       "      <td>23/01/2021 12:16</td>\n",
       "      <td>-6.60</td>\n",
       "      <td>-42.28</td>\n",
       "      <td>PI</td>\n",
       "    </tr>\n",
       "    <tr>\n",
       "      <th>5</th>\n",
       "      <td>19</td>\n",
       "      <td>7</td>\n",
       "      <td>14</td>\n",
       "      <td>Entregue</td>\n",
       "      <td>1/2/21 22:07</td>\n",
       "      <td>17/01/2021 22:07</td>\n",
       "      <td>18/01/2021 22:07</td>\n",
       "      <td>-22.25</td>\n",
       "      <td>-42.66</td>\n",
       "      <td>RJ</td>\n",
       "    </tr>\n",
       "  </tbody>\n",
       "</table>\n",
       "</div>"
      ],
      "text/plain": [
       "           ID Produto  Quantidade  ID Veículo Status do pedido Data da compra  \\\n",
       "ID Pedido                                                                       \n",
       "1                  32           3          19         Entregue   1/4/21 21:15   \n",
       "2                  50           9          42         Entregue    1/5/21 0:15   \n",
       "3                  39           3          19         Entregue  1/13/21 15:24   \n",
       "4                  39           1          16         Entregue   1/5/21 12:16   \n",
       "5                  19           7          14         Entregue   1/2/21 22:07   \n",
       "\n",
       "            Data de entrega     Data previsão  Latitude  Longitude  \\\n",
       "ID Pedido                                                            \n",
       "1          22/01/2021 21:15  23/01/2021 21:15    -22.19     -48.79   \n",
       "2          14/01/2021 00:15  25/01/2021 00:15    -22.19     -48.79   \n",
       "3          20/01/2021 15:24  02/02/2021 15:24    -20.51     -54.54   \n",
       "4          16/01/2021 12:16  23/01/2021 12:16     -6.60     -42.28   \n",
       "5          17/01/2021 22:07  18/01/2021 22:07    -22.25     -42.66   \n",
       "\n",
       "          UF da entrega  \n",
       "ID Pedido                \n",
       "1                    SP  \n",
       "2                    SP  \n",
       "3                    MS  \n",
       "4                    PI  \n",
       "5                    RJ  "
      ]
     },
     "execution_count": 2,
     "metadata": {},
     "output_type": "execute_result"
    }
   ],
   "source": [
    "df_pedidos = pd.read_csv('../dados_novos/Tabela - Pedidos.csv', delimiter=';', index_col=['ID Pedido'])\n",
    "df_pedidos.head()"
   ]
  },
  {
   "cell_type": "code",
   "execution_count": 3,
   "metadata": {},
   "outputs": [
    {
     "name": "stdout",
     "output_type": "stream",
     "text": [
      "A tabela de pedidos possui 147935 entradas (linhas) com 10 atributos (colunas).\n"
     ]
    }
   ],
   "source": [
    "print('A tabela de pedidos possui {:d} entradas (linhas) com {:d} atributos (colunas).'.format(*df_pedidos.shape))"
   ]
  },
  {
   "cell_type": "markdown",
   "metadata": {},
   "source": [
    "### Tratando dados faltantes"
   ]
  },
  {
   "cell_type": "markdown",
   "metadata": {},
   "source": [
    "A coluna `Data de entrega` pode ter linhas vazias uma vez que o pedido pode não ter sido entregue ainda."
   ]
  },
  {
   "cell_type": "code",
   "execution_count": 4,
   "metadata": {},
   "outputs": [
    {
     "data": {
      "text/plain": [
       "Não disponível      3757\n",
       "10/08/2020 12:06       7\n",
       "12/08/2020 12:07       6\n",
       "09/08/2020 13:18       5\n",
       "28/09/2020 08:53       5\n",
       "                    ... \n",
       "29/09/2020 11:58       1\n",
       "11/10/2019 22:30       1\n",
       "04/10/2019 16:55       1\n",
       "02/06/2019 12:17       1\n",
       "20/07/2019 23:59       1\n",
       "Name: Data de entrega, Length: 130492, dtype: int64"
      ]
     },
     "execution_count": 4,
     "metadata": {},
     "output_type": "execute_result"
    }
   ],
   "source": [
    "df_pedidos['Data de entrega'].value_counts()"
   ]
  },
  {
   "cell_type": "markdown",
   "metadata": {},
   "source": [
    "Vemos que na coluna `Data de entrega` temos 3757 dados designados por **\"Não disponível\"**. Podemos supor que essas entradas correspondem aos pedidos que ainda não foram entregues. Temos que tratar esses dados faltantes pois o pandas não irá reconhecer esse valor como `NaN`, `null` ou `None`. Vamos resolver isso com o método `replace()`."
   ]
  },
  {
   "cell_type": "code",
   "execution_count": 5,
   "metadata": {},
   "outputs": [
    {
     "data": {
      "text/plain": [
       "False    144178\n",
       "True       3757\n",
       "Name: Data de entrega, dtype: int64"
      ]
     },
     "execution_count": 5,
     "metadata": {},
     "output_type": "execute_result"
    }
   ],
   "source": [
    "df_pedidos['Data de entrega'].replace(to_replace=\"Não disponível\", value=np.nan, inplace=True)\n",
    "df_pedidos['Data de entrega'].isnull().value_counts()"
   ]
  },
  {
   "cell_type": "markdown",
   "metadata": {},
   "source": [
    "### Padronizando as datas"
   ]
  },
  {
   "cell_type": "code",
   "execution_count": 6,
   "metadata": {},
   "outputs": [
    {
     "data": {
      "text/html": [
       "<div>\n",
       "<style scoped>\n",
       "    .dataframe tbody tr th:only-of-type {\n",
       "        vertical-align: middle;\n",
       "    }\n",
       "\n",
       "    .dataframe tbody tr th {\n",
       "        vertical-align: top;\n",
       "    }\n",
       "\n",
       "    .dataframe thead th {\n",
       "        text-align: right;\n",
       "    }\n",
       "</style>\n",
       "<table border=\"1\" class=\"dataframe\">\n",
       "  <thead>\n",
       "    <tr style=\"text-align: right;\">\n",
       "      <th></th>\n",
       "      <th>Data da compra</th>\n",
       "      <th>Data de entrega</th>\n",
       "      <th>Data previsão</th>\n",
       "    </tr>\n",
       "    <tr>\n",
       "      <th>ID Pedido</th>\n",
       "      <th></th>\n",
       "      <th></th>\n",
       "      <th></th>\n",
       "    </tr>\n",
       "  </thead>\n",
       "  <tbody>\n",
       "    <tr>\n",
       "      <th>1</th>\n",
       "      <td>1/4/21 21:15</td>\n",
       "      <td>22/01/2021 21:15</td>\n",
       "      <td>23/01/2021 21:15</td>\n",
       "    </tr>\n",
       "    <tr>\n",
       "      <th>2</th>\n",
       "      <td>1/5/21 0:15</td>\n",
       "      <td>14/01/2021 00:15</td>\n",
       "      <td>25/01/2021 00:15</td>\n",
       "    </tr>\n",
       "    <tr>\n",
       "      <th>3</th>\n",
       "      <td>1/13/21 15:24</td>\n",
       "      <td>20/01/2021 15:24</td>\n",
       "      <td>02/02/2021 15:24</td>\n",
       "    </tr>\n",
       "    <tr>\n",
       "      <th>4</th>\n",
       "      <td>1/5/21 12:16</td>\n",
       "      <td>16/01/2021 12:16</td>\n",
       "      <td>23/01/2021 12:16</td>\n",
       "    </tr>\n",
       "    <tr>\n",
       "      <th>5</th>\n",
       "      <td>1/2/21 22:07</td>\n",
       "      <td>17/01/2021 22:07</td>\n",
       "      <td>18/01/2021 22:07</td>\n",
       "    </tr>\n",
       "  </tbody>\n",
       "</table>\n",
       "</div>"
      ],
      "text/plain": [
       "          Data da compra   Data de entrega     Data previsão\n",
       "ID Pedido                                                   \n",
       "1           1/4/21 21:15  22/01/2021 21:15  23/01/2021 21:15\n",
       "2            1/5/21 0:15  14/01/2021 00:15  25/01/2021 00:15\n",
       "3          1/13/21 15:24  20/01/2021 15:24  02/02/2021 15:24\n",
       "4           1/5/21 12:16  16/01/2021 12:16  23/01/2021 12:16\n",
       "5           1/2/21 22:07  17/01/2021 22:07  18/01/2021 22:07"
      ]
     },
     "execution_count": 6,
     "metadata": {},
     "output_type": "execute_result"
    }
   ],
   "source": [
    "df_pedidos[['Data da compra', 'Data de entrega', 'Data previsão']].head()"
   ]
  },
  {
   "cell_type": "markdown",
   "metadata": {},
   "source": [
    "Note que as colunas com informações de data estão em formatos distintos entre si:\n",
    "   \n",
    "   * A coluna `Data da compra` apresenta datas em formato Estadunidense\n",
    "   * As colunas `Data de entrega` e `Data previsão` mostram das datas em formato Brasileiro\n",
    "  \n",
    "Vamos padronizar a notação e mudar o tipo dos dados para `datetime`: isso facilitará as coisas quando estivermos calculando intervalos de tempo."
   ]
  },
  {
   "cell_type": "code",
   "execution_count": 7,
   "metadata": {},
   "outputs": [],
   "source": [
    "df_pedidos['Data de entrega'] = pd.to_datetime(df_pedidos['Data de entrega'], dayfirst=True)\n",
    "df_pedidos['Data previsão'] = pd.to_datetime(df_pedidos['Data previsão'], dayfirst=True)\n",
    "df_pedidos['Data da compra'] = pd.to_datetime(df_pedidos['Data da compra'], dayfirst=False)"
   ]
  },
  {
   "cell_type": "code",
   "execution_count": 8,
   "metadata": {},
   "outputs": [
    {
     "data": {
      "text/html": [
       "<div>\n",
       "<style scoped>\n",
       "    .dataframe tbody tr th:only-of-type {\n",
       "        vertical-align: middle;\n",
       "    }\n",
       "\n",
       "    .dataframe tbody tr th {\n",
       "        vertical-align: top;\n",
       "    }\n",
       "\n",
       "    .dataframe thead th {\n",
       "        text-align: right;\n",
       "    }\n",
       "</style>\n",
       "<table border=\"1\" class=\"dataframe\">\n",
       "  <thead>\n",
       "    <tr style=\"text-align: right;\">\n",
       "      <th></th>\n",
       "      <th>Status do pedido</th>\n",
       "      <th>Data de entrega</th>\n",
       "      <th>Data de entrega</th>\n",
       "      <th>Data previsão</th>\n",
       "    </tr>\n",
       "    <tr>\n",
       "      <th>ID Pedido</th>\n",
       "      <th></th>\n",
       "      <th></th>\n",
       "      <th></th>\n",
       "      <th></th>\n",
       "    </tr>\n",
       "  </thead>\n",
       "  <tbody>\n",
       "    <tr>\n",
       "      <th>1</th>\n",
       "      <td>Entregue</td>\n",
       "      <td>2021-01-22 21:15:00</td>\n",
       "      <td>2021-01-22 21:15:00</td>\n",
       "      <td>2021-01-23 21:15:00</td>\n",
       "    </tr>\n",
       "    <tr>\n",
       "      <th>2</th>\n",
       "      <td>Entregue</td>\n",
       "      <td>2021-01-14 00:15:00</td>\n",
       "      <td>2021-01-14 00:15:00</td>\n",
       "      <td>2021-01-25 00:15:00</td>\n",
       "    </tr>\n",
       "    <tr>\n",
       "      <th>3</th>\n",
       "      <td>Entregue</td>\n",
       "      <td>2021-01-20 15:24:00</td>\n",
       "      <td>2021-01-20 15:24:00</td>\n",
       "      <td>2021-02-02 15:24:00</td>\n",
       "    </tr>\n",
       "    <tr>\n",
       "      <th>4</th>\n",
       "      <td>Entregue</td>\n",
       "      <td>2021-01-16 12:16:00</td>\n",
       "      <td>2021-01-16 12:16:00</td>\n",
       "      <td>2021-01-23 12:16:00</td>\n",
       "    </tr>\n",
       "    <tr>\n",
       "      <th>5</th>\n",
       "      <td>Entregue</td>\n",
       "      <td>2021-01-17 22:07:00</td>\n",
       "      <td>2021-01-17 22:07:00</td>\n",
       "      <td>2021-01-18 22:07:00</td>\n",
       "    </tr>\n",
       "    <tr>\n",
       "      <th>...</th>\n",
       "      <td>...</td>\n",
       "      <td>...</td>\n",
       "      <td>...</td>\n",
       "      <td>...</td>\n",
       "    </tr>\n",
       "    <tr>\n",
       "      <th>147931</th>\n",
       "      <td>Em trânsito</td>\n",
       "      <td>NaT</td>\n",
       "      <td>NaT</td>\n",
       "      <td>2021-04-15 23:44:00</td>\n",
       "    </tr>\n",
       "    <tr>\n",
       "      <th>147932</th>\n",
       "      <td>Em trânsito</td>\n",
       "      <td>NaT</td>\n",
       "      <td>NaT</td>\n",
       "      <td>2021-04-18 23:45:00</td>\n",
       "    </tr>\n",
       "    <tr>\n",
       "      <th>147933</th>\n",
       "      <td>Em trânsito</td>\n",
       "      <td>NaT</td>\n",
       "      <td>NaT</td>\n",
       "      <td>2021-04-20 23:46:00</td>\n",
       "    </tr>\n",
       "    <tr>\n",
       "      <th>147934</th>\n",
       "      <td>Entregue</td>\n",
       "      <td>2021-04-06 23:49:00</td>\n",
       "      <td>2021-04-06 23:49:00</td>\n",
       "      <td>2021-04-16 23:49:00</td>\n",
       "    </tr>\n",
       "    <tr>\n",
       "      <th>147935</th>\n",
       "      <td>Entregue</td>\n",
       "      <td>2021-04-10 23:54:00</td>\n",
       "      <td>2021-04-10 23:54:00</td>\n",
       "      <td>2021-04-17 23:54:00</td>\n",
       "    </tr>\n",
       "  </tbody>\n",
       "</table>\n",
       "<p>147935 rows × 4 columns</p>\n",
       "</div>"
      ],
      "text/plain": [
       "          Status do pedido     Data de entrega     Data de entrega  \\\n",
       "ID Pedido                                                            \n",
       "1                 Entregue 2021-01-22 21:15:00 2021-01-22 21:15:00   \n",
       "2                 Entregue 2021-01-14 00:15:00 2021-01-14 00:15:00   \n",
       "3                 Entregue 2021-01-20 15:24:00 2021-01-20 15:24:00   \n",
       "4                 Entregue 2021-01-16 12:16:00 2021-01-16 12:16:00   \n",
       "5                 Entregue 2021-01-17 22:07:00 2021-01-17 22:07:00   \n",
       "...                    ...                 ...                 ...   \n",
       "147931         Em trânsito                 NaT                 NaT   \n",
       "147932         Em trânsito                 NaT                 NaT   \n",
       "147933         Em trânsito                 NaT                 NaT   \n",
       "147934            Entregue 2021-04-06 23:49:00 2021-04-06 23:49:00   \n",
       "147935            Entregue 2021-04-10 23:54:00 2021-04-10 23:54:00   \n",
       "\n",
       "                Data previsão  \n",
       "ID Pedido                      \n",
       "1         2021-01-23 21:15:00  \n",
       "2         2021-01-25 00:15:00  \n",
       "3         2021-02-02 15:24:00  \n",
       "4         2021-01-23 12:16:00  \n",
       "5         2021-01-18 22:07:00  \n",
       "...                       ...  \n",
       "147931    2021-04-15 23:44:00  \n",
       "147932    2021-04-18 23:45:00  \n",
       "147933    2021-04-20 23:46:00  \n",
       "147934    2021-04-16 23:49:00  \n",
       "147935    2021-04-17 23:54:00  \n",
       "\n",
       "[147935 rows x 4 columns]"
      ]
     },
     "execution_count": 8,
     "metadata": {},
     "output_type": "execute_result"
    }
   ],
   "source": [
    "df_pedidos[['Status do pedido','Data de entrega','Data de entrega','Data previsão']]"
   ]
  },
  {
   "cell_type": "markdown",
   "metadata": {},
   "source": [
    "Já é possível averiguar a quantidade de entregas fora do prazo com a seguinte estratégia:\n",
    "   * Criar coluna `Entrega no prazo` com dados booleanos\n",
    "   * Fazer uma contagem das ocorrencias do valor `True`"
   ]
  },
  {
   "cell_type": "code",
   "execution_count": 9,
   "metadata": {},
   "outputs": [
    {
     "data": {
      "text/plain": [
       "True     124013\n",
       "False     23922\n",
       "Name: Entrega no prazo, dtype: int64"
      ]
     },
     "execution_count": 9,
     "metadata": {},
     "output_type": "execute_result"
    }
   ],
   "source": [
    "df_pedidos['Entrega no prazo'] = (df_pedidos['Data previsão'] - df_pedidos['Data de entrega']) >= pd.to_timedelta(0)\n",
    "df_pedidos['Entrega no prazo'].value_counts()"
   ]
  },
  {
   "cell_type": "code",
   "execution_count": 25,
   "metadata": {},
   "outputs": [
    {
     "data": {
      "text/plain": [
       "147935"
      ]
     },
     "execution_count": 25,
     "metadata": {},
     "output_type": "execute_result"
    }
   ],
   "source": [
    "124013 + 23922"
   ]
  },
  {
   "cell_type": "markdown",
   "metadata": {},
   "source": [
    "### Ship to door (S2D)"
   ]
  },
  {
   "cell_type": "markdown",
   "metadata": {},
   "source": [
    "Uma métrica importante para o negócio de logística é a chamada Ship to Door (abreviado por S2D). Tal métrica mede o tempo entre a expedição do produto e a entrega do mesmo. Com a tabela de pedidos podemos calcular a diferença entre a data de compra e a data de entrega. "
   ]
  },
  {
   "cell_type": "code",
   "execution_count": 10,
   "metadata": {},
   "outputs": [],
   "source": [
    "lista_delta_entrega_compra = df_pedidos['Data de entrega'] - df_pedidos['Data da compra']\n",
    "df_pedidos['S2D em dias'] = [delta.days for delta in lista_delta_entrega_compra]"
   ]
  },
  {
   "cell_type": "markdown",
   "metadata": {},
   "source": [
    "## Salvando nova tabela"
   ]
  },
  {
   "cell_type": "markdown",
   "metadata": {},
   "source": [
    "Como no final das contas faremos um Dashboard usando o PowerBI, precisamos salvar a tabela atualizada em um novo arquivo. "
   ]
  },
  {
   "cell_type": "code",
   "execution_count": 11,
   "metadata": {},
   "outputs": [
    {
     "data": {
      "text/html": [
       "<div>\n",
       "<style scoped>\n",
       "    .dataframe tbody tr th:only-of-type {\n",
       "        vertical-align: middle;\n",
       "    }\n",
       "\n",
       "    .dataframe tbody tr th {\n",
       "        vertical-align: top;\n",
       "    }\n",
       "\n",
       "    .dataframe thead th {\n",
       "        text-align: right;\n",
       "    }\n",
       "</style>\n",
       "<table border=\"1\" class=\"dataframe\">\n",
       "  <thead>\n",
       "    <tr style=\"text-align: right;\">\n",
       "      <th></th>\n",
       "      <th>ID Produto</th>\n",
       "      <th>Quantidade</th>\n",
       "      <th>ID Veículo</th>\n",
       "      <th>Status do pedido</th>\n",
       "      <th>Data da compra</th>\n",
       "      <th>Data de entrega</th>\n",
       "      <th>Data previsão</th>\n",
       "      <th>Latitude</th>\n",
       "      <th>Longitude</th>\n",
       "      <th>UF da entrega</th>\n",
       "      <th>Entrega no prazo</th>\n",
       "      <th>S2D em dias</th>\n",
       "    </tr>\n",
       "    <tr>\n",
       "      <th>ID Pedido</th>\n",
       "      <th></th>\n",
       "      <th></th>\n",
       "      <th></th>\n",
       "      <th></th>\n",
       "      <th></th>\n",
       "      <th></th>\n",
       "      <th></th>\n",
       "      <th></th>\n",
       "      <th></th>\n",
       "      <th></th>\n",
       "      <th></th>\n",
       "      <th></th>\n",
       "    </tr>\n",
       "  </thead>\n",
       "  <tbody>\n",
       "    <tr>\n",
       "      <th>1</th>\n",
       "      <td>32</td>\n",
       "      <td>3</td>\n",
       "      <td>19</td>\n",
       "      <td>Entregue</td>\n",
       "      <td>2021-01-04 21:15:00</td>\n",
       "      <td>2021-01-22 21:15:00</td>\n",
       "      <td>2021-01-23 21:15:00</td>\n",
       "      <td>-22.19</td>\n",
       "      <td>-48.79</td>\n",
       "      <td>SP</td>\n",
       "      <td>True</td>\n",
       "      <td>18.0</td>\n",
       "    </tr>\n",
       "    <tr>\n",
       "      <th>2</th>\n",
       "      <td>50</td>\n",
       "      <td>9</td>\n",
       "      <td>42</td>\n",
       "      <td>Entregue</td>\n",
       "      <td>2021-01-05 00:15:00</td>\n",
       "      <td>2021-01-14 00:15:00</td>\n",
       "      <td>2021-01-25 00:15:00</td>\n",
       "      <td>-22.19</td>\n",
       "      <td>-48.79</td>\n",
       "      <td>SP</td>\n",
       "      <td>True</td>\n",
       "      <td>9.0</td>\n",
       "    </tr>\n",
       "    <tr>\n",
       "      <th>3</th>\n",
       "      <td>39</td>\n",
       "      <td>3</td>\n",
       "      <td>19</td>\n",
       "      <td>Entregue</td>\n",
       "      <td>2021-01-13 15:24:00</td>\n",
       "      <td>2021-01-20 15:24:00</td>\n",
       "      <td>2021-02-02 15:24:00</td>\n",
       "      <td>-20.51</td>\n",
       "      <td>-54.54</td>\n",
       "      <td>MS</td>\n",
       "      <td>True</td>\n",
       "      <td>7.0</td>\n",
       "    </tr>\n",
       "    <tr>\n",
       "      <th>4</th>\n",
       "      <td>39</td>\n",
       "      <td>1</td>\n",
       "      <td>16</td>\n",
       "      <td>Entregue</td>\n",
       "      <td>2021-01-05 12:16:00</td>\n",
       "      <td>2021-01-16 12:16:00</td>\n",
       "      <td>2021-01-23 12:16:00</td>\n",
       "      <td>-6.60</td>\n",
       "      <td>-42.28</td>\n",
       "      <td>PI</td>\n",
       "      <td>True</td>\n",
       "      <td>11.0</td>\n",
       "    </tr>\n",
       "    <tr>\n",
       "      <th>5</th>\n",
       "      <td>19</td>\n",
       "      <td>7</td>\n",
       "      <td>14</td>\n",
       "      <td>Entregue</td>\n",
       "      <td>2021-01-02 22:07:00</td>\n",
       "      <td>2021-01-17 22:07:00</td>\n",
       "      <td>2021-01-18 22:07:00</td>\n",
       "      <td>-22.25</td>\n",
       "      <td>-42.66</td>\n",
       "      <td>RJ</td>\n",
       "      <td>True</td>\n",
       "      <td>15.0</td>\n",
       "    </tr>\n",
       "  </tbody>\n",
       "</table>\n",
       "</div>"
      ],
      "text/plain": [
       "           ID Produto  Quantidade  ID Veículo Status do pedido  \\\n",
       "ID Pedido                                                        \n",
       "1                  32           3          19         Entregue   \n",
       "2                  50           9          42         Entregue   \n",
       "3                  39           3          19         Entregue   \n",
       "4                  39           1          16         Entregue   \n",
       "5                  19           7          14         Entregue   \n",
       "\n",
       "               Data da compra     Data de entrega       Data previsão  \\\n",
       "ID Pedido                                                               \n",
       "1         2021-01-04 21:15:00 2021-01-22 21:15:00 2021-01-23 21:15:00   \n",
       "2         2021-01-05 00:15:00 2021-01-14 00:15:00 2021-01-25 00:15:00   \n",
       "3         2021-01-13 15:24:00 2021-01-20 15:24:00 2021-02-02 15:24:00   \n",
       "4         2021-01-05 12:16:00 2021-01-16 12:16:00 2021-01-23 12:16:00   \n",
       "5         2021-01-02 22:07:00 2021-01-17 22:07:00 2021-01-18 22:07:00   \n",
       "\n",
       "           Latitude  Longitude UF da entrega  Entrega no prazo  S2D em dias  \n",
       "ID Pedido                                                                    \n",
       "1            -22.19     -48.79            SP              True         18.0  \n",
       "2            -22.19     -48.79            SP              True          9.0  \n",
       "3            -20.51     -54.54            MS              True          7.0  \n",
       "4             -6.60     -42.28            PI              True         11.0  \n",
       "5            -22.25     -42.66            RJ              True         15.0  "
      ]
     },
     "execution_count": 11,
     "metadata": {},
     "output_type": "execute_result"
    }
   ],
   "source": [
    "df_pedidos.head()"
   ]
  },
  {
   "cell_type": "code",
   "execution_count": 12,
   "metadata": {},
   "outputs": [],
   "source": [
    "df_pedidos.to_csv('../dados_novos/Tabela - Pedidos - Tratada.csv', sep=';')"
   ]
  },
  {
   "cell_type": "markdown",
   "metadata": {},
   "source": [
    "**Note que a nova tabela está salva em um diretório diferente da base de dados original**"
   ]
  }
 ],
 "metadata": {
  "kernelspec": {
   "display_name": "Python 3",
   "language": "python",
   "name": "python3"
  },
  "language_info": {
   "codemirror_mode": {
    "name": "ipython",
    "version": 3
   },
   "file_extension": ".py",
   "mimetype": "text/x-python",
   "name": "python",
   "nbconvert_exporter": "python",
   "pygments_lexer": "ipython3",
   "version": "3.7.6"
  }
 },
 "nbformat": 4,
 "nbformat_minor": 4
}
